{
 "cells": [
  {
   "cell_type": "markdown",
   "metadata": {},
   "source": [
    "# 2. Modelos en Pyomo <img src=\"fcfm.png\" style=\"width: 80px;\" style=\"float: right;\"  align=\"right\"  margin-right= \"50px\"/>\n",
    "\n",
    "031 E2024 Investigación de Operaciones\n",
    "\n",
    "Dr. Luis Ángel Gutiérrez Rodríguez\n",
    "\n",
    "Ismael Sandoval Aguilar \n",
    "\n",
    "18 de Febrero de 2024"
   ]
  },
  {
   "cell_type": "markdown",
   "metadata": {},
   "source": [
    "#### **Problema 12**\n",
    "Un fabricante de bebidas refrescantes está interesado en mezclar tres de sus actuales marcas de fábrica (marca 1, marca 2, marca 3) para obtener tres nuevos productos de alta calidad (Producto 1, Producto 2 y Producto 3), que desea vender al precio de 4, 3 y 2 euros por botella, respectivamente.\n",
    "\n",
    "Sólo puede importar 2.000 botellas de la marca 1, 4.000 de la marca 2 y 1.000 de la marca 3, siendo el precio que debe pagar de 3, 2 y 1 euro por cada tipo de botella.\n",
    "\n",
    "El fabricante requiere que el Producto 1 contenga como mínimo el 80% de la marca 1 y como máximo el 20% de la marca 3. El producto 2 deberá contener como mínimo el 20% de la marca 1 y no más del 80% de la marca 3. El producto 3 no podrá contener más del 70% de la marca 3.\n",
    "\n",
    "Formule el modelo que permitirá al fabricante hallar las mezclas que le producirán el máximo beneficio.\n",
    "\n",
    "#### Modelación del Problema\n",
    "Definición de las variables de decisión:\n",
    "\n",
    "$x_{ij}$: Cantidad de botellas de la marca $i$ usadas en el producto $j$, donde $i \\in \\{1, 2, 3\\}$ y $j \\in \\{1, 2, 3\\}$\n",
    "\n",
    "Función objetivo:\n",
    "\n",
    "$\\text{Maximizar } Z = \\sum_{j=1}^{3} \\sum_{i=1}^{3} (p_j - c_i) \\cdot x_{ij}$\n",
    "\n",
    "Sujeto a las restricciones:\n",
    "1. Limitaciones de suministro: No se pueden usar más botellas de las disponibles para cada marca.\n",
    "   - $x_{11} + x_{12} + x_{13} \\leq 2000$\n",
    "   - $x_{21} + x_{22} + x_{23} \\leq 4000$\n",
    "   - $x_{31} + x_{32} + x_{33} \\leq 1000$\n",
    "\n",
    "2. Requisitos de composición para cada producto:\n",
    "   - Producto 1: mínimo 80% de la marca 1 y máximo 20% de la marca 3.\n",
    "     - $x_{11} \\geq 0.8(x_{11} + x_{21} + x_{31})$\n",
    "     - $x_{31} \\leq 0.2(x_{11} + x_{21} + x_{31})$\n",
    "   - Producto 2: mínimo 20% de la marca 1 y máximo 80% de la marca 3.\n",
    "     - $x_{12} \\geq 0.2(x_{12} + x_{22} + x_{32})$\n",
    "     - $x_{32} \\leq 0.8(x_{12} + x_{22} + x_{32})$\n",
    "   - Producto 3: no más del 70% de la marca 3.\n",
    "     - $x_{33} \\leq 0.7(x_{13} + x_{23} + x_{33})$\n",
    "\n",
    "3. No negatividad: Todas las variables de decisión deben ser mayores o iguales a cero.\n",
    "   - $x_{ij} \\geq 0$ para todo $i, j$.\n",
    "\n",
    "#### Solución Computacional"
   ]
  },
  {
   "cell_type": "code",
   "execution_count": 1,
   "metadata": {},
   "outputs": [],
   "source": [
    "import pyomo.environ as pyo\n",
    "from pyomo.opt import SolverFactory\n"
   ]
  },
  {
   "cell_type": "code",
   "execution_count": 2,
   "metadata": {},
   "outputs": [],
   "source": [
    "# Creacion del modelo\n",
    "model = pyo.ConcreteModel()\n",
    "\n",
    "# Variables de decisión: x[i,j] donde i es la marca y j el producto\n",
    "model.x = pyo.Var([(i,j) for i in range(1,4) for j in range(1,4)], domain=pyo.NonNegativeReals)\n",
    "\n",
    "# Precios de venta por producto\n",
    "P = {1: 4, 2: 3, 3: 2}\n",
    "\n",
    "# Costos de compra por marca\n",
    "C = {1: 3, 2: 2, 3: 1}\n",
    "\n",
    "# Función objetivo: Maximizar el beneficio total\n",
    "model.OBJ = pyo.Objective(expr = sum((P[j] - C[i]) * model.x[i,j] for i in range(1,4) for j in range(1,4)), sense=pyo.maximize)\n",
    "\n",
    "# Restricciones de suministro\n",
    "model.Supply1 = pyo.Constraint(expr = sum(model.x[1,j] for j in range(1,4)) <= 2000)\n",
    "model.Supply2 = pyo.Constraint(expr = sum(model.x[2,j] for j in range(1,4)) <= 4000)\n",
    "model.Supply3 = pyo.Constraint(expr = sum(model.x[3,j] for j in range(1,4)) <= 1000)\n",
    "\n",
    "# Restricciones de composición del producto\n",
    "model.Comp1_1 = pyo.Constraint(expr = model.x[1,1] >= 0.8 * sum(model.x[i,1] for i in range(1,4)))\n",
    "model.Comp1_3 = pyo.Constraint(expr = model.x[3,1] <= 0.2 * sum(model.x[i,1] for i in range(1,4)))\n",
    "\n",
    "model.Comp2_1 = pyo.Constraint(expr = model.x[1,2] >= 0.2 * sum(model.x[i,2] for i in range(1,4)))\n",
    "model.Comp2_3 = pyo.Constraint(expr = model.x[3,2] <= 0.8 * sum(model.x[i,2] for i in range(1,4)))\n",
    "\n",
    "model.Comp3_3 = pyo.Constraint(expr = model.x[3,3] <= 0.7 * sum(model.x[i,3] for i in range(1,4)))"
   ]
  },
  {
   "cell_type": "code",
   "execution_count": 3,
   "metadata": {},
   "outputs": [
    {
     "name": "stdout",
     "output_type": "stream",
     "text": [
      "Solución óptima encontrada\n",
      "Beneficio total: 7000.0\n",
      "Botellas de la marca 1 usadas para el producto 1: 800.0\n",
      "Botellas de la marca 1 usadas para el producto 2: 1200.0\n",
      "Botellas de la marca 1 usadas para el producto 3: 0.0\n",
      "Botellas de la marca 2 usadas para el producto 1: 0.0\n",
      "Botellas de la marca 2 usadas para el producto 2: 4000.0\n",
      "Botellas de la marca 2 usadas para el producto 3: 0.0\n",
      "Botellas de la marca 3 usadas para el producto 1: 200.0\n",
      "Botellas de la marca 3 usadas para el producto 2: 800.0\n",
      "Botellas de la marca 3 usadas para el producto 3: 0.0\n"
     ]
    }
   ],
   "source": [
    "# Crear una instancia del solver GLPK\n",
    "solver = SolverFactory('glpk')\n",
    "\n",
    "# Resolver el modelo\n",
    "results = solver.solve(model)  \n",
    "\n",
    "# Verificar si la solución es óptima\n",
    "if (results.solver.status == pyo.SolverStatus.ok) and (results.solver.termination_condition == pyo.TerminationCondition.optimal):\n",
    "    print(\"Solución óptima encontrada\")\n",
    "    # Imprimir la función objetivo\n",
    "    print(\"Beneficio total:\", pyo.value(model.OBJ))\n",
    "    \n",
    "    # Imprimir las cantidades de cada marca para cada producto\n",
    "    for i in range(1, 4):\n",
    "        for j in range(1, 4):\n",
    "            print(f\"Botellas de la marca {i} usadas para el producto {j}: {pyo.value(model.x[i,j])}\")\n",
    "else:\n",
    "    print(\"No se encontró una solución óptima.\")\n"
   ]
  },
  {
   "attachments": {
    "image.png": {
     "image/png": "[encoded data removed]"
    }
   },
   "cell_type": "markdown",
   "metadata": {},
   "source": [
    "#### **Problema 13**\n",
    "Un granjero tiene 600 acres de terreno y desea determinar el número de acres que asignará a cada una de las tres cosechas siguientes: tomates, pimientos y espinacas. Los días hombre, el coste de preparación y la ganancia por acre de cada una de las cosechas se muestran en la tabla siguiente:\n",
    "\n",
    "![image.png](attachment:image.png)\n",
    "\n",
    "Suponga que el número de días hombre disponibles es de 4.000, y que el granjero tiene 6.000 euros para preparación.\n",
    "\n",
    "#### Modelación del Problema\n",
    "Definición de las variables de decisión:\n",
    "\n",
    "- $ x_1 $: número de acres dedicados a tomates.\n",
    "- $ x_2 $: número de acres dedicados a pimientos.\n",
    "- $ x_3 $: número de acres dedicados a espinacas.\n",
    "\n",
    "Función objetivo:\n",
    "\n",
    "$\\text{Maximizar } Z = 6x_1 + 12x_2 + 10x_3$\n",
    "\n",
    "Sujeto a las restricciones:\n",
    "1. El total de acres no puede exceder de 600, lo que se traduce en la restricción:\\\n",
    "$ x_1 + x_2 + x_3 \\leq 600 $\n",
    "\n",
    "2. El número total de días hombre disponibles es 4000, lo que implica la restricción:\\\n",
    "$ 5x_1 + 8x_2 + 13x_3 \\leq 4000 $\n",
    "\n",
    "3. El presupuesto para la preparación no puede superar los 6000 euros, que se traduce en:\\\n",
    "$ 12x_1 + 18x_2 + 14x_3 \\leq 6000 $\n",
    "\n",
    "4. Además, no se pueden asignar un número negativo de acres a cada cultivo, por lo que:\\\n",
    "$ x_1 \\geq 0 $,\n",
    "$ x_2 \\geq 0 $,\n",
    "$ x_3 \\geq 0 $\n",
    "\n",
    "#### Solución Computacional"
   ]
  },
  {
   "cell_type": "code",
   "execution_count": 4,
   "metadata": {},
   "outputs": [],
   "source": [
    "# Creación del modelo y las variables\n",
    "model = pyo.ConcreteModel()\n",
    "model.x = pyo.Var([1,2,3], domain=pyo.NonNegativeReals)\n",
    "\n",
    "# Función objetivo\n",
    "model.OBJ = pyo.Objective(expr = 6*model.x[1] + 12*model.x[2] + 10*model.x[3], sense = pyo.maximize)\n",
    "\n",
    "# Restricciones del modelo\n",
    "model.Constraint1 = pyo.Constraint(expr = model.x[1] + model.x[2] + model.x[3] <= 600) # Los acres totales no pueden exceder de 600\n",
    "model.Constraint2 = pyo.Constraint(expr = 5*model.x[1] + 8*model.x[2] + 13*model.x[3] <= 4000) # Restricción de días hombre\n",
    "model.Constraint3 = pyo.Constraint(expr = 12*model.x[1] + 18*model.x[2] + 14*model.x[3] <= 6000) # Restricción de coste de preparación\n",
    "\n",
    "# Configuración y solución del problema con el solver\n",
    "solver = pyo.SolverFactory('glpk')  # o cualquier otro solver que tengas instalado\n",
    "resultado = solver.solve(model)"
   ]
  },
  {
   "cell_type": "code",
   "execution_count": 5,
   "metadata": {},
   "outputs": [
    {
     "name": "stdout",
     "output_type": "stream",
     "text": [
      "Acres dedicados al cultivo 1: 0.0\n",
      "Acres dedicados al cultivo 2: 180.327868852459\n",
      "Acres dedicados al cultivo 3: 196.72131147541\n",
      "Beneficio total: 4131.1475409836075\n"
     ]
    }
   ],
   "source": [
    "# Mostrar los resultados\n",
    "for i in model.x:\n",
    "    print(f'Acres dedicados al cultivo {i}: {model.x[i].value}')\n",
    "\n",
    "# También imprimimos el beneficio total\n",
    "print(f'Beneficio total: {model.OBJ.expr()}')"
   ]
  },
  {
   "attachments": {
    "image.png": {
     "image/png": "[encoded data removed]"
    }
   },
   "cell_type": "markdown",
   "metadata": {},
   "source": [
    "#### **Problema 14**\n",
    "Una empresa ensambla un producto que consta de tres piezas denominadas AA, BB, y CC. Las piezas AA y BB las fabrica la propia empresa, mientras que las piezas CC las compra a otro fabricante. Los tiempos de proceso, en horas, requeridos por cada pieza en cada uno de los procesos vienen dados en la tabla siguiente:\n",
    "\n",
    "![image.png](attachment:image.png)\n",
    "\n",
    "La empresa dispone de 20 máquinas que pueden realizar el proceso 1, 5 el proceso 2, 10 el proceso 3, 5 el proceso 4 y 5 el proceso 5. Cada máquina trabaja un máximo de cinco días cada semana a razón de cincuenta semanas al año, en jornadas laborables de 8 horas diarias. Determine el número máximo de conjuntos ensamblados que puede producir.\n",
    "\n",
    "#### Modelación del Problema\n",
    "Definición de las variables de decisión:\n",
    "\n",
    "$x_i$: Número de unidades a fabricar de la pieza $i$ tal que $i \\in \\{AA, BB, CC\\}$\n",
    "\n",
    "Función objetivo:\n",
    "\n",
    "$\\text{Maximizar } Z = x_{AA}$\n",
    "\n",
    "Sujeto a las restricciones:\n",
    "\n",
    "$x_{AA} \\leq 16,000 $ \\\n",
    "$x_{AA} \\leq 20,000 $ \\\n",
    "$x_{AA} \\leq 20,000 $ \\\n",
    "$x_{AA} \\leq 12,000 $ \\\n",
    "$x_{AA} \\leq 24,000 $ \\\n",
    "$x_{AA} \\geq 0$\n",
    "\n",
    "#### Solución Computacional"
   ]
  },
  {
   "cell_type": "code",
   "execution_count": 6,
   "metadata": {},
   "outputs": [],
   "source": [
    "# Creación del modelo\n",
    "model = pyo.ConcreteModel()\n",
    "\n",
    "# Definición de las variables de decisión\n",
    "model.x_AA = pyo.Var(domain=pyo.NonNegativeReals)  # Número de unidades a fabricar de la pieza AA\n",
    "\n",
    "# Función objetivo\n",
    "model.objetivo = pyo.Objective(expr=model.x_AA, sense=pyo.maximize)\n",
    "\n",
    "# Restricciones\n",
    "model.restriccion1 = pyo.Constraint(expr=model.x_AA <= 16000)\n",
    "model.restriccion2 = pyo.Constraint(expr=model.x_AA <= 20000)\n",
    "model.restriccion3 = pyo.Constraint(expr=model.x_AA <= 20000)\n",
    "model.restriccion4 = pyo.Constraint(expr=model.x_AA <= 12000)\n",
    "model.restriccion5 = pyo.Constraint(expr=model.x_AA <= 24000)"
   ]
  },
  {
   "cell_type": "code",
   "execution_count": 7,
   "metadata": {},
   "outputs": [
    {
     "name": "stdout",
     "output_type": "stream",
     "text": [
      "Número máximo de unidades de la pieza AA que se pueden fabricar: 12000.0\n"
     ]
    }
   ],
   "source": [
    "# Configuración del solver\n",
    "solver = pyo.SolverFactory('glpk')  # Puedes cambiar 'glpk' por el solver que tengas instalado\n",
    "\n",
    "# Solución del problema\n",
    "solver.solve(model)\n",
    "\n",
    "# Impresión de la solución\n",
    "print(f'Número máximo de unidades de la pieza AA que se pueden fabricar: {model.x_AA.value}')"
   ]
  },
  {
   "attachments": {
    "image.png": {
     "image/png": "[encoded data removed]"
    }
   },
   "cell_type": "markdown",
   "metadata": {},
   "source": [
    "#### **Problema 15**\n",
    "Se desea planificar la producción de dos productos XA y ZA. La demanda prevista para los próximos meses viene dada en la tabla siguiente:\n",
    "\n",
    "![image.png](attachment:image.png)\n",
    "\n",
    "El inventario a principios de año de los productos XA y ZA es de 100 y 200 respectivamente. Al finalizar el horizonte de planificación se desea disponer al menos de 300 unidades del producto ZA. Los costes de almacenaje de los productos XA y ZA son respectivamente de 2 euros y 1 euro por unidad almacenada y mes. Debido a limitaciones de espacio, la cantidad de productos almacenados no puede exceder de 300 unidades mensuales. La cantidad máxima que puede fabricarse mensualmente es de 400 unidades de XA y 700 de ZA. Formule el problema de de planificación de la producción teniendo como objetivo minimizar el coste total de inventario.\n",
    "\n",
    "#### Modelación del Problema\n",
    "\n",
    "Sujeto a las restricciones:\n",
    "\n",
    "\n",
    "\n",
    "#### Solución Computacional"
   ]
  },
  {
   "cell_type": "code",
   "execution_count": null,
   "metadata": {},
   "outputs": [],
   "source": []
  },
  {
   "cell_type": "markdown",
   "metadata": {},
   "source": [
    "#### **Problema de la Mochila**\n",
    "\n",
    "#### Solución Computacional"
   ]
  },
  {
   "cell_type": "code",
   "execution_count": 33,
   "metadata": {},
   "outputs": [],
   "source": [
    "from pyomo.environ import *"
   ]
  },
  {
   "cell_type": "code",
   "execution_count": 36,
   "metadata": {},
   "outputs": [],
   "source": [
    "# Creacion del modelo\n",
    "model = ConcreteModel()\n",
    "\n",
    "# Parametros: material = [PINO,ABETO,ROBLE]\n",
    "C = [[500, 550, 800],  # Mesas=\n",
    "     [450, 0, 700],  # Sillas=\n",
    "     [0, 0, 1200]  # BancaMesa=\n",
    "     ]\n",
    "\n",
    "# Variables de decision \n",
    "Producto = list(range(1, 4))\n",
    "Material = list(range(1, 4))\n",
    "model.x = Var(Producto, Material, within=Reals, bounds=(0, 1000), initialize=0)\n",
    "\n",
    "# Funcion objetivo\n",
    "model.OBJ = Objective(expr=sum(C[i-1][j-1]*model.x[i, j]\n",
    "                      for i in Producto for j in Material)-(3750)-(6600), sense=maximize)\n",
    "\n",
    "# Restricciones\n",
    "model.Constraint1 = Constraint(expr=3*model.x[1, 3] + 4*model.x[2, 3] <= 30)\n",
    "model.Constraint2 = Constraint(expr=5*model.x[2, 1] <= 40)\n",
    "model.Constraint3 = Constraint(\n",
    "    expr=2.5*model.x[1, 2] + 4*model.x[2, 2] + 12*model.x[3, 2] <= 15)\n",
    "model.Constraint4 = Constraint(expr=2.5*model.x[1, 3] + 1.5*model.x[2, 3] + 4.5 *\n",
    "                               model.x[2, 1] + 2.5*model.x[1, 2] + 4.5*model.x[2, 2] + 9*model.x[3, 1] <= 20)"
   ]
  },
  {
   "cell_type": "code",
   "execution_count": 37,
   "metadata": {},
   "outputs": [],
   "source": [
    "# Configuracion del solver y resultados\n",
    "solver = SolverFactory('glpk')\n",
    "results = solver.solve(model)"
   ]
  },
  {
   "cell_type": "code",
   "execution_count": 38,
   "metadata": {},
   "outputs": [
    {
     "name": "stdout",
     "output_type": "stream",
     "text": [
      "Sillas Pino 1000\n",
      "Sillas Abeto 4\n",
      "Sillas Roble 0\n",
      "Mesas Pino 0\n",
      "Mesas Abeto 0\n",
      "Mesas Roble 8\n",
      "Mesabanca Pino 0\n",
      "Mesabanca Abeto 0\n",
      "Mesabanca Roble 1000\n"
     ]
    }
   ],
   "source": [
    "productos = {1:\"Sillas\", 2:\"Mesas\", 3:\"Mesabanca\" }\n",
    "materiales = {1:\"Pino\", 2:\"Abeto\", 3:\"Roble\" }\n",
    "\n",
    "for i in Producto:\n",
    "    for j in Material:\n",
    "        print(productos[i], materiales[j],int(ceil(value(model.x[i,j]))))"
   ]
  }
 ],
 "metadata": {
  "kernelspec": {
   "display_name": "Python 3",
   "language": "python",
   "name": "python3"
  },
  "language_info": {
   "codemirror_mode": {
    "name": "ipython",
    "version": 3
   },
   "file_extension": ".py",
   "mimetype": "text/x-python",
   "name": "python",
   "nbconvert_exporter": "python",
   "pygments_lexer": "ipython3",
   "version": "3.11.5"
  }
 },
 "nbformat": 4,
 "nbformat_minor": 2
}
