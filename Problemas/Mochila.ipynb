{
  "cells": [
    {
      "cell_type": "code",
      "execution_count": 1,
      "metadata": {
        "colab": {
          "base_uri": "https://localhost:8080/"
        },
        "id": "AT05PzEtpnyg",
        "outputId": "fef6d808-06e9-4fcf-9f30-246f67548180"
      },
      "outputs": [
        {
          "name": "stdout",
          "output_type": "stream",
          "text": [
            "Licensed to AMPL Community Edition License for <cs113invop@gmail.com>.\n"
          ]
        }
      ],
      "source": [
        "from amplpy import AMPL, ampl_notebook\n",
        "ampl = ampl_notebook(\n",
        "    modules=[\"cplex\"],\n",
        "    license_uuid=\"2563917c-d437-4bbb-afcb-592f3a4abcea\")"
      ]
    },
    {
      "cell_type": "code",
      "execution_count": 2,
      "metadata": {
        "id": "4oBfIvMzbnvk"
      },
      "outputs": [],
      "source": [
        "%%ampl_eval\n",
        "reset;\n",
        "set ITEMS;\n",
        "\n",
        "param weight{ITEMS};\n",
        "param value{ITEMS};\n",
        "param max_weight;\n",
        "\n",
        "var x{ITEMS} binary;\n",
        "\n",
        "maximize total_value: sum{i in ITEMS} value[i] * x[i];\n",
        "\n",
        "subject to weight_constraint: sum{i in ITEMS} weight[i] * x[i] <= max_weight;"
      ]
    },
    {
      "cell_type": "code",
      "execution_count": 3,
      "metadata": {
        "colab": {
          "base_uri": "https://localhost:8080/",
          "height": 383
        },
        "id": "WWkgIjWxqAdA",
        "outputId": "7df5da14-5d15-4ece-925d-30495c80a50a"
      },
      "outputs": [
        {
          "name": "stdout",
          "output_type": "stream",
          "text": [
            "CPLEX 22.1.1.0: optimal integer solution; objective 1641\n",
            "4 MIP simplex iterations\n",
            "0 branch-and-bound nodes\n"
          ]
        },
        {
          "data": {
            "text/html": [
              "<div>\n",
              "<style scoped>\n",
              "    .dataframe tbody tr th:only-of-type {\n",
              "        vertical-align: middle;\n",
              "    }\n",
              "\n",
              "    .dataframe tbody tr th {\n",
              "        vertical-align: top;\n",
              "    }\n",
              "\n",
              "    .dataframe thead th {\n",
              "        text-align: right;\n",
              "    }\n",
              "</style>\n",
              "<table border=\"1\" class=\"dataframe\">\n",
              "  <thead>\n",
              "    <tr style=\"text-align: right;\">\n",
              "      <th></th>\n",
              "      <th>x</th>\n",
              "    </tr>\n",
              "  </thead>\n",
              "  <tbody>\n",
              "    <tr>\n",
              "      <th>15</th>\n",
              "      <td>1</td>\n",
              "    </tr>\n",
              "    <tr>\n",
              "      <th>28</th>\n",
              "      <td>1</td>\n",
              "    </tr>\n",
              "    <tr>\n",
              "      <th>30</th>\n",
              "      <td>1</td>\n",
              "    </tr>\n",
              "    <tr>\n",
              "      <th>57</th>\n",
              "      <td>1</td>\n",
              "    </tr>\n",
              "    <tr>\n",
              "      <th>75</th>\n",
              "      <td>1</td>\n",
              "    </tr>\n",
              "    <tr>\n",
              "      <th>89</th>\n",
              "      <td>1</td>\n",
              "    </tr>\n",
              "    <tr>\n",
              "      <th>91</th>\n",
              "      <td>1</td>\n",
              "    </tr>\n",
              "    <tr>\n",
              "      <th>92</th>\n",
              "      <td>1</td>\n",
              "    </tr>\n",
              "    <tr>\n",
              "      <th>97</th>\n",
              "      <td>1</td>\n",
              "    </tr>\n",
              "  </tbody>\n",
              "</table>\n",
              "</div>"
            ],
            "text/plain": [
              "    x\n",
              "15  1\n",
              "28  1\n",
              "30  1\n",
              "57  1\n",
              "75  1\n",
              "89  1\n",
              "91  1\n",
              "92  1\n",
              "97  1"
            ]
          },
          "execution_count": 3,
          "metadata": {},
          "output_type": "execute_result"
        }
      ],
      "source": [
        "from random import randint\n",
        "\n",
        "items = list(range(1, 100+1))\n",
        "ampl.set[\"ITEMS\"] = items\n",
        "ampl.param[\"weight\"] = {i: randint(10, 20) for i in items}\n",
        "ampl.param[\"value\"] = {i: randint(100, 200) for i in items}\n",
        "ampl.param[\"max_weight\"] = 100\n",
        "ampl.option[\"solver\"] = \"cplex\"\n",
        "ampl.solve()\n",
        "df = ampl.get_data('x').to_pandas()\n",
        "\n",
        "df[(df.x == 1)]\n"
      ]
    },
    {
      "cell_type": "markdown",
      "metadata": {
        "id": "cgP0-kgawuUg"
      },
      "source": [
        "A partir de este segmento el codigo está sobre pyomo, es necesario descargar el solver en la maquina virtual."
      ]
    },
    {
      "cell_type": "code",
      "execution_count": 4,
      "metadata": {},
      "outputs": [],
      "source": [
        "import pyomo.environ as pyo\n",
        "from pyomo.opt import SolverFactory"
      ]
    },
    {
      "cell_type": "code",
      "execution_count": 5,
      "metadata": {
        "colab": {
          "base_uri": "https://localhost:8080/",
          "height": 523
        },
        "id": "VB0CgrH9KY-A",
        "outputId": "162969d1-0e88-4155-e553-9427458ea7fc"
      },
      "outputs": [],
      "source": [
        "model = pyo.ConcreteModel()\n",
        "\n",
        "model.x = pyo.Var([1,2], domain=pyo.NonNegativeReals)\n",
        "model.OBJ = pyo.Objective(expr = 2*model.x[1] + 3*model.x[2],sense=pyo.maximize)\n",
        "model.Constraint1 = pyo.Constraint(expr = 3*model.x[1] + 4*model.x[2] >= 1)"
      ]
    },
    {
      "cell_type": "code",
      "execution_count": 12,
      "metadata": {},
      "outputs": [
        {
          "name": "stdout",
          "output_type": "stream",
          "text": [
            "GLPSOL--GLPK LP/MIP Solver 5.0\n",
            "Parameter(s) specified in the command line:\n",
            " --write /tmp/tmpqr8lgx_t.glpk.raw --wglp /tmp/tmp8mlwsdua.glpk.glp --cpxlp\n",
            " /tmp/tmpkomsjzmu.pyomo.lp\n",
            "Reading problem data from '/tmp/tmpkomsjzmu.pyomo.lp'...\n",
            "1 row, 2 columns, 2 non-zeros\n",
            "18 lines were read\n",
            "Writing problem data to '/tmp/tmp8mlwsdua.glpk.glp'...\n",
            "11 lines were written\n",
            "GLPK Simplex Optimizer 5.0\n",
            "1 row, 2 columns, 2 non-zeros\n",
            "Preprocessing...\n",
            "1 row, 2 columns, 2 non-zeros\n",
            "Scaling...\n",
            " A: min|aij| =  3.000e+00  max|aij| =  4.000e+00  ratio =  1.333e+00\n",
            "Problem data seem to be well scaled\n",
            "Constructing initial basis...\n",
            "Size of triangular part is 1\n",
            "      0: obj =  -0.000000000e+00 inf =   1.000e+00 (1)\n",
            "      1: obj =   7.500000000e-01 inf =   0.000e+00 (0)\n",
            "LP HAS UNBOUNDED PRIMAL SOLUTION\n",
            "glp_simplex: unable to recover undefined or non-optimal solution\n",
            "If you need actual output for non-optimal solution, use --nopresol\n",
            "Time used:   0.0 secs\n",
            "Memory used: 0.0 Mb (39693 bytes)\n",
            "Writing basic solution to '/tmp/tmpqr8lgx_t.glpk.raw'...\n",
            "12 lines were written\n"
          ]
        }
      ],
      "source": [
        "solver = SolverFactory('glpk')\n",
        "results = solver.solve(model, tee=True)"
      ]
    },
    {
      "cell_type": "markdown",
      "metadata": {
        "id": "9drvrrmfLVMI"
      },
      "source": [
        "V.D:\n",
        "    x[1], x[2]\n",
        "\n",
        "F.O:\n",
        "    max  2x[1] + 3x[2]\n",
        "\n",
        "s.a:\n",
        "    3x[1] + 4x[2] >= 1"
      ]
    }
  ],
  "metadata": {
    "colab": {
      "provenance": []
    },
    "kernelspec": {
      "display_name": "Python 3",
      "name": "python3"
    },
    "language_info": {
      "codemirror_mode": {
        "name": "ipython",
        "version": 3
      },
      "file_extension": ".py",
      "mimetype": "text/x-python",
      "name": "python",
      "nbconvert_exporter": "python",
      "pygments_lexer": "ipython3",
      "version": "3.10.12"
    }
  },
  "nbformat": 4,
  "nbformat_minor": 0
}
