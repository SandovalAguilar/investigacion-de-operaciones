{
 "cells": [
  {
   "cell_type": "markdown",
   "metadata": {},
   "source": [
    "# 1. Modelos en Pyomo <img src=\"fcfm.png\" style=\"width: 80px;\" style=\"float: right;\"  align=\"right\"  margin-right= \"50px\"/>\n",
    "\n",
    "031 E2024 Investigación de Operaciones\n",
    "\n",
    "Dr. Luis Ángel Gutiérrez Rodríguez\n",
    "\n",
    "Ismael Sandoval Aguilar \n",
    "\n",
    "11 de Febrero de 2024"
   ]
  },
  {
   "cell_type": "markdown",
   "metadata": {},
   "source": [
    "#### **Problema 9**\n",
    "Tres productos son fabricados en una máquina. El tiempo de preparación de cada producto es de 2, \n",
    "3 y 4 minutos respectivamente, y el tiempo de proceso de 3, 2 y 1 minutos. El beneficio aportado \n",
    "por cada producto es respectivamente de 12, 10 y 15 euros. Se dispone de 100 minutos de máquina \n",
    "y 200 para la preparación de la misma. Determine el número óptimo de unidades a fabricar de cada \n",
    "artículo. \n",
    "\n",
    "#### Modelación del Problema\n",
    "Definición de las variables de decisión:\n",
    "\n",
    "$x_i$: Número de unidades del producto $i$ a fabricar tal que $i \\in \\{1,2,3\\}$.\n",
    "\n",
    "Función objetivo:\n",
    "\n",
    "Maximizar $Z = 12x_1 + 10x_2 + 15x_3$\n",
    "\n",
    "Sujeto a las restricciones:\n",
    "\n",
    "$2x_1 + 3x_2 + 4x_3 \\leq 200$ \\\n",
    "$3x_1 + 2x_2 + x_3 \\leq 100$ \\\n",
    "$x_i \\geq 0$ "
   ]
  },
  {
   "cell_type": "markdown",
   "metadata": {},
   "source": [
    "#### Solución Computacional "
   ]
  },
  {
   "cell_type": "code",
   "execution_count": 15,
   "metadata": {},
   "outputs": [],
   "source": [
    "import pyomo.environ as pyo\n",
    "from pyomo.opt import SolverFactory"
   ]
  },
  {
   "cell_type": "code",
   "execution_count": 16,
   "metadata": {},
   "outputs": [],
   "source": [
    "# Model and variables creation\n",
    "model = pyo.ConcreteModel()\n",
    "model.x = pyo.Var([1,2,3], domain=pyo.NonNegativeReals)\n",
    "\n",
    "# Objective function\n",
    "model.OBJ = pyo.Objective(expr = 12*model.x[1] + 10*model.x[2] + 15*model.x[3], sense = pyo.maximize)\n",
    "\n",
    "# Model constraints \n",
    "model.Constraint1 = pyo.Constraint(expr = 2*model.x[1] + 3*model.x[2] + 4*model.x[3] <= 200)\n",
    "model.Constraint2 = pyo.Constraint(expr = 3*model.x[1] + 2*model.x[2] + model.x[3] <= 100)"
   ]
  },
  {
   "cell_type": "code",
   "execution_count": 17,
   "metadata": {},
   "outputs": [
    {
     "name": "stdout",
     "output_type": "stream",
     "text": [
      "\n",
      "Resultados: \n",
      "\n",
      "Z = 840.0\n",
      "x_1 = 20.0\n",
      "x_2 = 0.0\n",
      "x_3 = 40.0\n"
     ]
    }
   ],
   "source": [
    "results_9 = pyo.SolverFactory('glpk').solve(model)\n",
    "\n",
    "print(\"\\nResultados: \\n\");\n",
    "print('Z =', model.OBJ())\n",
    "print(\"x_1 =\", model.x[1]())\n",
    "print(\"x_2 =\", model.x[2]())\n",
    "print(\"x_3 =\", model.x[3]())"
   ]
  },
  {
   "attachments": {
    "image.png": {
     "image/png": "[encoded data removed]"
    }
   },
   "cell_type": "markdown",
   "metadata": {},
   "source": [
    "#### **Problema 2**\n",
    "Una empresa elabora tres tipos de bebidas utilizando zumo de piña y zumo de melocotón. El dueño\n",
    "de la empresa ha comprado 1.500 litros de zumo de piña y 2.000 de zumo de melocotón. Los litros\n",
    "de zumo requeridos en la fabricación de cada bebida vienen dados en la tabla siguiente.\n",
    "\n",
    "![image.png](attachment:image.png)\n",
    "\n",
    "El precio de venta de cada bebida es 15 euros el litro. El coste del zumo de piña es de 1 euro el litro\n",
    "y 2 euros el litro de zumo de melocotón. Se conoce que la demanda de bebidas asciende a 400\n",
    "litros.\n",
    "\n",
    "#### Modelación del Problema\n",
    "Definición de las variables de decisión:\n",
    "\n",
    "$x_i$: Litros de bebida fabricada $i$ tal que $i \\in \\{1,2,3\\}$.\n",
    "\n",
    "Función objetivo:\n",
    "\n",
    "Maximizar $Z = 5x_1 + 6x_2 + 4x_3$\n",
    "\n",
    "Sujeto a las restricciones:\n",
    "\n",
    "$6x_1 + 3x_2 + 3x_3 \\leq 1500$ \\\n",
    "$2x_1 + 3x_2 + 4x_3 \\leq 2000$ \\\n",
    "$x_1 + x_2 + x_3 \\geq 400$ \\\n",
    "$x_i \\geq 0$ \n",
    "\n",
    "#### Solución Computacional"
   ]
  },
  {
   "cell_type": "code",
   "execution_count": 18,
   "metadata": {},
   "outputs": [],
   "source": [
    "# Model and variables creation\n",
    "model = pyo.ConcreteModel()\n",
    "model.x = pyo.Var([1,2,3], domain=pyo.NonNegativeReals)\n",
    "\n",
    "# Objective function\n",
    "model.OBJ = pyo.Objective(expr = 5*model.x[1] + 6*model.x[2] + 4*model.x[3], sense = pyo.maximize)\n",
    "\n",
    "# Model constraints \n",
    "model.Constraint1 = pyo.Constraint(expr = 6*model.x[1] + 3*model.x[2] + 3*model.x[3] <= 1500)\n",
    "model.Constraint2 = pyo.Constraint(expr = 2*model.x[1] + 3*model.x[2] + 4*model.x[3] <= 2000)\n",
    "model.Constraint3 = pyo.Constraint(expr = model.x[1] + model.x[2] + model.x[3] >= 400)"
   ]
  },
  {
   "cell_type": "code",
   "execution_count": 19,
   "metadata": {},
   "outputs": [
    {
     "name": "stdout",
     "output_type": "stream",
     "text": [
      "\n",
      "Resultados: \n",
      "\n",
      "Z = 3000.0\n",
      "x_1 = 0.0\n",
      "x_2 = 500.0\n",
      "x_3 = 0.0\n"
     ]
    }
   ],
   "source": [
    "results_2 = pyo.SolverFactory('glpk').solve(model)\n",
    "\n",
    "print(\"\\nResultados: \\n\");\n",
    "print('Z =', model.OBJ())\n",
    "print(\"x_1 =\", model.x[1]())\n",
    "print(\"x_2 =\", model.x[2]())\n",
    "print(\"x_3 =\", model.x[3]())"
   ]
  },
  {
   "cell_type": "markdown",
   "metadata": {},
   "source": [
    "#### **Problema 4**\n",
    "Una empresa está estudiando llevar a cabo una campaña publicitaria, para ello dispone de\n",
    "1,000,000 de euros. Puede difundir sus anuncios en dos canales publicitarios distintos, el primero de\n",
    "ellos cobra 15,000 euros cada vez que emite un anuncio, mientras que el segundo cobra el doble. La\n",
    "probabilidad de que un anuncio del primer canal sea visto es del 30%, mientras que del segundo es\n",
    "del 70%. Como mínimo deben emitirse 26 anuncios en el primer canal y 13 en el segundo.\n",
    "\n",
    "#### Modelación del Problema\n",
    "Definición de las variables de decisión:\n",
    "\n",
    "$x_i$: Número de anuncios a emitir en el canal $i$ tal que $i \\in \\{1,2,3\\}$.\n",
    "\n",
    "Función objetivo:\n",
    "\n",
    "Maximizar $Z = 0.3x_1 + 0.7x_2$\n",
    "\n",
    "Sujeto a las restricciones:\n",
    "\n",
    "$1500x_1 + 3000x_2 \\leq 1000000$ \\\n",
    "$x_1 \\geq 26$ \\\n",
    "$x_2 \\geq 13$ \\\n",
    "$x_i \\geq 0$ \n",
    "\n",
    "#### Solución Computacional\n"
   ]
  },
  {
   "cell_type": "code",
   "execution_count": 20,
   "metadata": {},
   "outputs": [],
   "source": [
    "# Model and variables creation\n",
    "model = pyo.ConcreteModel()\n",
    "model.x = pyo.Var([1,2], domain=pyo.NonNegativeReals)\n",
    "\n",
    "# Objective function\n",
    "model.OBJ = pyo.Objective(expr = 0.3*model.x[1] + 0.7*model.x[2], sense = pyo.maximize)\n",
    "\n",
    "# Model constraints \n",
    "model.Constraint1 = pyo.Constraint(expr = 1500*model.x[1] + 3000*model.x[2] <= 1000000)\n",
    "model.Constraint2 = pyo.Constraint(expr = model.x[1] >= 26)\n",
    "model.Constraint3 = pyo.Constraint(expr = model.x[2] >= 13)"
   ]
  },
  {
   "cell_type": "code",
   "execution_count": 21,
   "metadata": {},
   "outputs": [
    {
     "name": "stdout",
     "output_type": "stream",
     "text": [
      "\n",
      "Resultados: \n",
      "\n",
      "Z = 232.03333333333308\n",
      "x_1 = 26.0\n",
      "x_2 = 320.333333333333\n"
     ]
    }
   ],
   "source": [
    "results_2 = pyo.SolverFactory('glpk').solve(model)\n",
    "\n",
    "print(\"\\nResultados: \\n\");\n",
    "print('Z =', model.OBJ())\n",
    "print(\"x_1 =\", model.x[1]())\n",
    "print(\"x_2 =\", model.x[2]())"
   ]
  }
 ],
 "metadata": {
  "kernelspec": {
   "display_name": "Python 3",
   "language": "python",
   "name": "python3"
  },
  "language_info": {
   "codemirror_mode": {
    "name": "ipython",
    "version": 3
   },
   "file_extension": ".py",
   "mimetype": "text/x-python",
   "name": "python",
   "nbconvert_exporter": "python",
   "pygments_lexer": "ipython3",
   "version": "3.10.12"
  }
 },
 "nbformat": 4,
 "nbformat_minor": 2
}
