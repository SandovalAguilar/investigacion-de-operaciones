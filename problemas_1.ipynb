{
 "cells": [
  {
   "cell_type": "markdown",
   "metadata": {},
   "source": [
    "# 1. Modelos en Pyomo <img src=\"fcfm.png\" style=\"width: 80px;\" style=\"float: right;\"  align=\"right\"  margin-right= \"50px\"/>\n",
    "\n",
    "031 E2024 Investigación de Operaciones\n",
    "\n",
    "Dr. Luis Ángel Gutiérrez Rodríguez\n",
    "\n",
    "Ismael Sandoval Aguilar \n",
    "\n",
    "11 de Febrero de 2024"
   ]
  },
  {
   "cell_type": "markdown",
   "metadata": {},
   "source": [
    "#### **Problema 9**\n",
    "Tres productos son fabricados en una máquina. El tiempo de preparación de cada producto es de 2, \n",
    "3 y 4 minutos respectivamente, y el tiempo de proceso de 3, 2 y 1 minutos. El beneficio aportado \n",
    "por cada producto es respectivamente de 12, 10 y 15 euros. Se dispone de 100 minutos de máquina \n",
    "y 200 para la preparación de la misma. Determine el número óptimo de unidades a fabricar de cada \n",
    "artículo. \n",
    "\n",
    "#### Modelación del Problema\n",
    "Definición de las variables de decisión:\n",
    "\n",
    "$x_i$: Número de unidades del producto $i$ a fabricar tal que $i \\in \\{1,2,3\\}$.\n",
    "\n",
    "Función objetivo:\n",
    "\n",
    "Maximizar $Z = 12x_1 + 10x_2 + 15x_3$\n",
    "\n",
    "Sujeto a las restricciones:\n",
    "\n",
    "$2x_1 + 3x_2 + 4x_3 \\leq 200$ \\\n",
    "$3x_1 + 2x_2 + x_3 \\leq 100$ \\\n",
    "$x_i \\geq 0$ "
   ]
  },
  {
   "cell_type": "markdown",
   "metadata": {},
   "source": [
    "#### Solución Computacional "
   ]
  },
  {
   "cell_type": "code",
   "execution_count": 1,
   "metadata": {},
   "outputs": [],
   "source": [
    "import pyomo.environ as pyo\n",
    "from pyomo.opt import SolverFactory"
   ]
  },
  {
   "cell_type": "code",
   "execution_count": 6,
   "metadata": {},
   "outputs": [],
   "source": [
    "# Model and variables creation\n",
    "model = pyo.ConcreteModel()\n",
    "model.x = pyo.Var([1,2,3], domain=pyo.NonNegativeReals)\n",
    "\n",
    "# Objective function\n",
    "model.OBJ = pyo.Objective(expr = 12*model.x[1] + 10*model.x[2] + 15*model.x[3], sense = pyo.maximize)\n",
    "\n",
    "# Model constraints \n",
    "model.Constraint1 = pyo.Constraint(expr = 2*model.x[1] + 3*model.x[2] + 4*model.x[3] <= 200)\n",
    "model.Constraint2 = pyo.Constraint(expr = 3*model.x[1] + 2*model.x[2] + model.x[3] <= 100)"
   ]
  },
  {
   "cell_type": "code",
   "execution_count": 27,
   "metadata": {},
   "outputs": [
    {
     "name": "stdout",
     "output_type": "stream",
     "text": [
      "\n",
      "Resultados: \n",
      "\n",
      "Z = 840.0\n",
      "x_1 = 20.0\n",
      "x_2 = 0.0\n",
      "x_3 = 40.0\n"
     ]
    }
   ],
   "source": [
    "results = pyo.SolverFactory('glpk').solve(model)\n",
    "\n",
    "print(\"\\nResultados: \\n\");\n",
    "print('Z =', model.OBJ())\n",
    "print(\"x_1 =\", model.x[1]())\n",
    "print(\"x_2 =\", model.x[2]())\n",
    "print(\"x_3 =\", model.x[3]())"
   ]
  },
  {
   "cell_type": "markdown",
   "metadata": {},
   "source": [
    "#### **Problema 11**"
   ]
  }
 ],
 "metadata": {
  "kernelspec": {
   "display_name": "Python 3",
   "language": "python",
   "name": "python3"
  },
  "language_info": {
   "codemirror_mode": {
    "name": "ipython",
    "version": 3
   },
   "file_extension": ".py",
   "mimetype": "text/x-python",
   "name": "python",
   "nbconvert_exporter": "python",
   "pygments_lexer": "ipython3",
   "version": "3.10.12"
  }
 },
 "nbformat": 4,
 "nbformat_minor": 2
}
