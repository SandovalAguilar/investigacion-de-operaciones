{
 "cells": [
  {
   "cell_type": "markdown",
   "metadata": {},
   "source": [
    "# Programación No Lineal y Dinámica <img src=\"fcfm.png\" style=\"width: 80px;\" style=\"float: right;\"  align=\"right\"  margin-right= \"50px\"/>\n",
    "\n",
    "031 E2024 Investigación de Operaciones\n",
    "\n",
    "Dr. Luis Ángel Gutiérrez Rodríguez\n",
    "\n",
    "Ismael Sandoval Aguilar \n",
    "\n",
    "25 de Febrero de 2024"
   ]
  },
  {
   "cell_type": "markdown",
   "metadata": {},
   "source": [
    "#### **Programación No Lineal: Situación Problema**\n",
    "\n",
    "Para ayudar a los propietarios de restaurantes a reabrir sus negocios durante la pandemia de COVID-19, el gobierno creó un índice de riesgo de capacidad generalizado (definido a continuación), o CRI por sus siglas en inglés, para ayudar a los propietarios a comprender cuán riesgoso es abrir sus áreas de asientos interiores y exteriores.\n",
    "\n",
    "$$CRI = 4x^2_1 - 4x^4_1 + 4x^{6/3}_1 + x_1 x_2 - 4x^2_2 + 4x^4_2$$\n",
    "\n",
    "Donde:\n",
    "- $x_1$: Proporción de asientos de interiores disponibles.\n",
    "- $x_2$: Proporción de asientos de exteriores disponibles.\n",
    "\n",
    "Mary, una propietaria de restaurante local, quiere reabrir su restaurante con el menor riesgo posible. Sin embargo, comprende que para ofrecer a su personal horas de trabajo valiosas, tendrá que abrir al menos el 10% de su capacidad de asientos interiores y el 25% de su capacidad de asientos exteriores.\n",
    "\n",
    "¿Cuál es la forma más segura (según el CRI) para que Mary reabra su negocio?\n",
    "\n",
    "#### Modelación del Problema\n",
    "\n",
    "Función objetivo:\n",
    "\n",
    "$$\\text{Min} \\hspace{2mm} Z = 4x^2_1 - 4x^4_1 + 4x^{6/3}_1 + x_1 x_2 - 4x^2_2 + 4x^4_2$$\n",
    "\n",
    "Sujeto a las restricciones:\n",
    "\n",
    "- $x_1 \\geq 0.1$\n",
    "- $x_2 = 0.25$\n",
    "- $x_1, x_2 \\leq 1$\n",
    "\n",
    "#### Modelación Computacional"
   ]
  },
  {
   "cell_type": "code",
   "execution_count": 4,
   "metadata": {},
   "outputs": [],
   "source": [
    "from pyomo.environ import *"
   ]
  },
  {
   "cell_type": "code",
   "execution_count": 2,
   "metadata": {},
   "outputs": [],
   "source": [
    "# Crear un modelo\n",
    "model = ConcreteModel()\n",
    "\n",
    "# Declarar variables\n",
    "model.x1 = Var(bounds=(0.1, 1))\n",
    "model.x2 = Var(bounds=(0.25, 1))\n",
    "\n",
    "# Definir la función objetivo\n",
    "model.CRI = Objective(expr=4*model.x1**2 - 4*model.x1**4 + 4*model.x1**(6/3) + model.x1*model.x2 - 4*model.x2**2 + 4*model.x2**4, sense=minimize)\n",
    "\n",
    "# Resolver el modelo utilizando MindtPy\n",
    "solver = SolverFactory('mindtpy')\n",
    "solution = solver.solve(model, mip_solver='glpk', nlp_solver='ipopt', strategy='OA')"
   ]
  },
  {
   "cell_type": "code",
   "execution_count": 3,
   "metadata": {},
   "outputs": [
    {
     "name": "stdout",
     "output_type": "stream",
     "text": [
      "Proporción óptima de asientos interiores (x1): 0.0999999911857276\n",
      "Proporción óptima de asientos exteriores (x2): 0.7007719058283692\n",
      "Índice de riesgo óptimo (CRI): -0.8500046541482943\n"
     ]
    }
   ],
   "source": [
    "# Mostrar resultados\n",
    "optimal_x1 = model.x1.value  # Proporción óptima de asientos interiores\n",
    "optimal_x2 = model.x2.value  # Proporción óptima de asientos exteriores\n",
    "optimal_CRI = value(model.CRI)  # Valor óptimo del CRI\n",
    "\n",
    "print(f\"Proporción óptima de asientos interiores (x1): {optimal_x1}\")\n",
    "print(f\"Proporción óptima de asientos exteriores (x2): {optimal_x2}\")\n",
    "print(f\"Índice de riesgo óptimo (CRI): {optimal_CRI}\")"
   ]
  }
 ],
 "metadata": {
  "kernelspec": {
   "display_name": "Python 3",
   "language": "python",
   "name": "python3"
  },
  "language_info": {
   "codemirror_mode": {
    "name": "ipython",
    "version": 3
   },
   "file_extension": ".py",
   "mimetype": "text/x-python",
   "name": "python",
   "nbconvert_exporter": "python",
   "pygments_lexer": "ipython3",
   "version": "3.11.5"
  }
 },
 "nbformat": 4,
 "nbformat_minor": 2
}
